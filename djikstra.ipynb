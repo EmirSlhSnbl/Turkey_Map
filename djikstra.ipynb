{
 "cells": [
  {
   "cell_type": "code",
   "execution_count": 1,
   "metadata": {},
   "outputs": [],
   "source": [
    "import pandas as pd\n",
    "import networkx as nx\n",
    "from math import radians, sin, cos, sqrt, atan2"
   ]
  },
  {
   "cell_type": "code",
   "execution_count": 2,
   "metadata": {},
   "outputs": [],
   "source": [
    "def haversine(lat1, lon1, lat2, lon2):\n",
    "    R = 6371  # Dünya yarıçapı (km)\n",
    "    d_lat = radians(lat2 - lat1)\n",
    "    d_lon = radians(lon2 - lon1)\n",
    "    a = sin(d_lat / 2)**2 + cos(radians(lat1)) * cos(radians(lat2)) * sin(d_lon / 2)**2\n",
    "    c = 2 * atan2(sqrt(a), sqrt(1 - a))\n",
    "    return R * c"
   ]
  },
  {
   "cell_type": "code",
   "execution_count": 4,
   "metadata": {},
   "outputs": [],
   "source": [
    "city_data = pd.read_csv(\"city_data.csv\")\n",
    "G = nx.Graph()\n",
    "\n"
   ]
  },
  {
   "cell_type": "code",
   "execution_count": 5,
   "metadata": {},
   "outputs": [],
   "source": [
    "for _, row in city_data.iterrows():\n",
    "    city = row['il']\n",
    "    lat1, lon1 = row['Enlem'], row['Boylam']\n",
    "    neighbors = row['Komsular'].split(\", \")\n",
    "    \n",
    "    for neighbor in neighbors:\n",
    "        neighbor_row = city_data[city_data['il'] == neighbor]\n",
    "        \n",
    "        if not neighbor_row.empty:\n",
    "            lat2, lon2 = neighbor_row.iloc[0]['Enlem'], neighbor_row.iloc[0]['Boylam']\n",
    "            distance = haversine(lat1, lon1, lat2, lon2)\n",
    "            G.add_edge(city, neighbor, weight=distance)"
   ]
  },
  {
   "cell_type": "code",
   "execution_count": 17,
   "metadata": {},
   "outputs": [],
   "source": [
    "start_city = \"Kocaeli\"\n",
    "end_city = \"İstanbul\"\n",
    "\n",
    "shortest_path = nx.dijkstra_path(G, source=start_city, target=end_city, weight='weight')\n",
    "shortest_distance = nx.dijkstra_path_length(G, source=start_city, target=end_city, weight='weight')"
   ]
  },
  {
   "cell_type": "code",
   "execution_count": 18,
   "metadata": {},
   "outputs": [
    {
     "name": "stdout",
     "output_type": "stream",
     "text": [
      "En kısa rota: Kocaeli -> İstanbul\n",
      "Toplam mesafe: 85.28037956988528 km\n"
     ]
    }
   ],
   "source": [
    "print(\"En kısa rota:\", \" -> \".join(shortest_path))\n",
    "print(\"Toplam mesafe:\", shortest_distance, \"km\")"
   ]
  },
  {
   "cell_type": "code",
   "execution_count": null,
   "metadata": {},
   "outputs": [],
   "source": [
    "\n"
   ]
  },
  {
   "cell_type": "code",
   "execution_count": null,
   "metadata": {},
   "outputs": [],
   "source": []
  }
 ],
 "metadata": {
  "kernelspec": {
   "display_name": "base",
   "language": "python",
   "name": "python3"
  },
  "language_info": {
   "codemirror_mode": {
    "name": "ipython",
    "version": 3
   },
   "file_extension": ".py",
   "mimetype": "text/x-python",
   "name": "python",
   "nbconvert_exporter": "python",
   "pygments_lexer": "ipython3",
   "version": "3.12.2"
  }
 },
 "nbformat": 4,
 "nbformat_minor": 2
}
